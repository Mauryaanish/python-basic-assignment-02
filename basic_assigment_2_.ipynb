{
  "nbformat": 4,
  "nbformat_minor": 0,
  "metadata": {
    "colab": {
      "provenance": []
    },
    "kernelspec": {
      "name": "python3",
      "display_name": "Python 3"
    },
    "language_info": {
      "name": "python"
    }
  },
  "cells": [
    {
      "cell_type": "code",
      "execution_count": null,
      "metadata": {
        "id": "pUvCS-CknTLH"
      },
      "outputs": [],
      "source": []
    },
    {
      "cell_type": "markdown",
      "source": [
        "## 1.What are the two values of the Boolean data type? How do you write them?\n",
        "\n",
        "Answer:- A variable of the primitive data type boolean can have two values: true and false\n",
        " Write:- True And False"
      ],
      "metadata": {
        "id": "oT1QAxsGnYB_"
      }
    },
    {
      "cell_type": "code",
      "source": [],
      "metadata": {
        "id": "SKED8Eq-nauG"
      },
      "execution_count": null,
      "outputs": []
    },
    {
      "cell_type": "markdown",
      "source": [
        "##2. What are the three different types of Boolean operators?\n",
        "\n",
        "Answer:- The three basic boolean operators are: AND, OR, and NOT."
      ],
      "metadata": {
        "id": "C9pIzuR-n1I_"
      }
    },
    {
      "cell_type": "markdown",
      "source": [
        "## 3. Make a list of each Boolean operator&#39;s truth tables (i.e. every possible combination of Boolean\n",
        "values for the operator and what it evaluate ).\n",
        "\n",
        "Answer:- True and True is True.\n",
        "\n",
        "          True and False is False.\n",
        "\n",
        "          False and True is False.\n",
        "\n",
        "          False and False is False.\n",
        "\n",
        "          True or True is True.\n",
        "\n",
        "          True or False is True.\n",
        "\n",
        "          False or True is True.\n",
        "\n",
        "          False or False is False.\n",
        "\n",
        "          not True is False.\n",
        "\n",
        "          not False is True."
      ],
      "metadata": {
        "id": "w_NjJdSpoPnS"
      }
    },
    {
      "cell_type": "code",
      "source": [],
      "metadata": {
        "id": "3_ONI5-0oGpY"
      },
      "execution_count": null,
      "outputs": []
    },
    {
      "cell_type": "markdown",
      "source": [
        "## 4. What are the values of the following expressions?\n",
        "- (5>4) and (3 == 5):- False\n",
        "- not (5>4):- False\n",
        "- (5>4) or (3==5):- True\n",
        "- not ((5>4) or (3==5)):- False\n",
        "- (True and False) and (True==False):- False\n",
        "- (Not False) or (not True):- True"
      ],
      "metadata": {
        "id": "yo2d6pn5p9jR"
      }
    },
    {
      "cell_type": "markdown",
      "source": [
        "## ## 5. What are the six comparison operators?\n",
        "Answer:- < , > , == , != , <= , >="
      ],
      "metadata": {
        "id": "WFXD6TB5sa0f"
      }
    },
    {
      "cell_type": "markdown",
      "source": [
        "## 6. How do you tell the difference between the equal to and assignment operators?Describe a\n",
        "condition and when you would use one.\n",
        "\n",
        "Answer:-  == is the equal to operator that compares two values and evaluates to a Boolean, while = is the assignment operator that stores a value in a variable."
      ],
      "metadata": {
        "id": "yhbAb7pJ0MUf"
      }
    },
    {
      "cell_type": "markdown",
      "source": [
        "## 7. Identify the three blocks in this code:\n",
        "\n",
        "Answer:- The three blocks are everything inside the if statement and the lines print('bacon') and print('ham')"
      ],
      "metadata": {
        "id": "zVOizIXQ0xAa"
      }
    },
    {
      "cell_type": "markdown",
      "source": [
        "## 8. Write code that prints Hello if 1 is stored in spam, prints Howdy if 2 is stored in spam, and prints\n",
        "Greetings! if anything else is stored in spam."
      ],
      "metadata": {
        "id": "ZizsNS4XcdSz"
      }
    },
    {
      "cell_type": "code",
      "source": [
        "spam=int(input(\"Enter Value: \"))\n",
        "\n",
        "if spam==1:\n",
        "   print(\"Hello\")\n",
        "elif spam==2:\n",
        "    print(\"Howdy\")\n",
        "else:\n",
        "    print(\"Greeting\")\n"
      ],
      "metadata": {
        "colab": {
          "base_uri": "https://localhost:8080/"
        },
        "id": "9JeBZXQLsUhG",
        "outputId": "fb833c3a-cebf-4b08-cfc6-6669aadeb25e"
      },
      "execution_count": 12,
      "outputs": [
        {
          "output_type": "stream",
          "name": "stdout",
          "text": [
            "Enter Value: 1\n",
            "Hello\n"
          ]
        }
      ]
    },
    {
      "cell_type": "code",
      "source": [],
      "metadata": {
        "id": "CiLQ-ZhSdAH9"
      },
      "execution_count": null,
      "outputs": []
    },
    {
      "cell_type": "markdown",
      "source": [
        "## 9.If your programme is stuck in an endless loop, what keys you’ll press?\n",
        "\n",
        "Answer:- Press CTRL-C to stop a program stuck in an infinite loop."
      ],
      "metadata": {
        "id": "UPEHTDZ4eAlP"
      }
    },
    {
      "cell_type": "code",
      "source": [],
      "metadata": {
        "id": "ucql-LOaeUor"
      },
      "execution_count": null,
      "outputs": []
    },
    {
      "cell_type": "markdown",
      "source": [
        "## 10 How can you tell the difference between break and continue?\n",
        "\n",
        "Answer:- break- It is used to stop the execution of the loop at a specific condition.\n",
        "\n",
        "continue- It is used to skip a particular iteration of the loop."
      ],
      "metadata": {
        "id": "WEykgJuAeYMI"
      }
    },
    {
      "cell_type": "code",
      "source": [],
      "metadata": {
        "id": "djoz2bbcfBit"
      },
      "execution_count": null,
      "outputs": []
    },
    {
      "cell_type": "markdown",
      "source": [
        "## 11. In a for loop, what is the difference between range(10), range(0, 10), and range(0, 10, 1)?\n",
        "\n",
        "Answer:- range(0,0,0) meaning is (lower_band,      upper band, setp)-\n",
        "        range(10) meaning (0,1,2,3,4,5,6,7,8,9)-\n",
        "        range(0,10) meaning(0,1,2,3,4,5,6,7,8,9)-\n",
        "        range(0,10,1) meaning(0,1,2,3,4,5,6,7,8,9)\n",
        "        "
      ],
      "metadata": {
        "id": "1jVZVywFfNfi"
      }
    },
    {
      "cell_type": "markdown",
      "source": [
        "## 12.Write a short program that prints the numbers 1 to 10 using a for loop. Then write an equivalent\n",
        "program that prints the numbers 1 to 10 using a while loop."
      ],
      "metadata": {
        "id": "i5ShOeKBg-XU"
      }
    },
    {
      "cell_type": "code",
      "source": [
        "n=1\n",
        "while n<=10:\n",
        "  print(f\"{n}\")\n",
        "  n=n+1"
      ],
      "metadata": {
        "colab": {
          "base_uri": "https://localhost:8080/"
        },
        "id": "VpaoVUTWhGXZ",
        "outputId": "2baa255b-79a3-4454-ce42-3a85c66e8a0b"
      },
      "execution_count": 21,
      "outputs": [
        {
          "output_type": "stream",
          "name": "stdout",
          "text": [
            "1\n",
            "2\n",
            "3\n",
            "4\n",
            "5\n",
            "6\n",
            "7\n",
            "8\n",
            "9\n",
            "10\n"
          ]
        }
      ]
    },
    {
      "cell_type": "code",
      "source": [],
      "metadata": {
        "id": "oJ_2kM1Tg2j3"
      },
      "execution_count": null,
      "outputs": []
    },
    {
      "cell_type": "markdown",
      "source": [
        "## 13.If you had a function named bacon() inside a module named spam, how would you call it after\n",
        "importing spam?\n",
        "\n",
        "Answer:- spam.bacon()"
      ],
      "metadata": {
        "id": "yAsLghKShu_U"
      }
    },
    {
      "cell_type": "code",
      "source": [],
      "metadata": {
        "id": "B6eXOc_GhxAJ"
      },
      "execution_count": null,
      "outputs": []
    }
  ]
}